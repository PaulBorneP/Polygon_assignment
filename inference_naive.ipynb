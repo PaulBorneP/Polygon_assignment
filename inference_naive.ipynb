{
 "cells": [
  {
   "cell_type": "code",
   "execution_count": 2,
   "metadata": {},
   "outputs": [
    {
     "name": "stderr",
     "output_type": "stream",
     "text": [
      "/Users/paulbp_dty/Desktop/src/test/lib/python3.10/site-packages/tqdm/auto.py:22: TqdmWarning: IProgress not found. Please update jupyter and ipywidgets. See https://ipywidgets.readthedocs.io/en/stable/user_install.html\n",
      "  from .autonotebook import tqdm as notebook_tqdm\n"
     ]
    }
   ],
   "source": [
    "from efficientnet_pytorch import EfficientNet\n",
    "from PIL import Image\n",
    "import torch\n",
    "from torchvision import transforms\n",
    "import os\n",
    "from tqdm import *\n",
    "from sklearn.metrics import confusion_matrix\n",
    "import numpy as np\n",
    "import json\n"
   ]
  },
  {
   "cell_type": "code",
   "execution_count": 17,
   "metadata": {},
   "outputs": [
    {
     "name": "stdout",
     "output_type": "stream",
     "text": [
      "Loaded pretrained weights for efficientnet-b0\n"
     ]
    }
   ],
   "source": [
    "from efficientnet_pytorch import EfficientNet\n",
    "model = EfficientNet.from_pretrained('efficientnet-b0')"
   ]
  },
  {
   "cell_type": "markdown",
   "metadata": {},
   "source": [
    "# Implementation naive "
   ]
  },
  {
   "cell_type": "code",
   "execution_count": 28,
   "metadata": {},
   "outputs": [
    {
     "name": "stderr",
     "output_type": "stream",
     "text": [
      "100%|██████████| 200/200 [01:10<00:00,  2.85it/s]\n"
     ]
    }
   ],
   "source": [
    "directory= './dataset/'\n",
    "nb_samples=10000\n",
    "labels=json.load(open('labels.json'))\n",
    "\n",
    "grayscale= []\n",
    "actual=[]\n",
    "predicted=[]\n",
    "\n",
    "for filename in tqdm(os.listdir(directory)[:10000]):\n",
    "    f = os.path.join(directory, filename)\n",
    "    y_true= labels[filename]    \n",
    "    tfms = transforms.Compose([transforms.Resize(224), transforms.ToTensor(),\n",
    "    transforms.Normalize([0.485, 0.456, 0.406], [0.229, 0.224, 0.225]),])\n",
    "    img=Image.open(f)    \n",
    "    if img.mode !='RGB':\n",
    "        grayscale.append(filename)\n",
    "        img = tfms(img.convert('RGB')).unsqueeze(0)\n",
    "    else:\n",
    "        img = tfms(img).unsqueeze(0)\n",
    "    with torch.no_grad():\n",
    "        outputs = model(img)\n",
    "        y_pred = torch.argmax(outputs).item()\n",
    "        actual.append(y_true)\n",
    "        predicted.append(y_pred)\n",
    "\n",
    "with open('results.json', 'w') as fp:\n",
    "    results = {actual[i]: predicted[i] for i in range(nb_samples)}\n",
    "    json.dump(results, fp,  indent=4)"
   ]
  },
  {
   "cell_type": "code",
   "execution_count": 76,
   "metadata": {},
   "outputs": [],
   "source": [
    "\n",
    "def confusion_values (y_true,y_pred):\n",
    "    confusion = confusion_matrix(y_true,y_pred)\n",
    "    FP = confusion.sum(axis=0) - np.diag(confusion)  \n",
    "    FN = confusion.sum(axis=1) - np.diag(confusion)\n",
    "    TP = np.diag(confusion)\n",
    "    TN = confusion.sum() - (FP + FN + TP)\n",
    "    return FP,FN,TP,TN\n",
    "\n",
    "def get_metrics(FP,FN,TP,TN,nb_smpl):\n",
    "    # Accuracy\n",
    "    ACC=sum(TP)/nb_smpl\n",
    "    # Specificity or True Negative Rate\n",
    "    TNR=TN/(TN+FP)\n",
    "    return {'ACC':ACC,'TNR':TNR}"
   ]
  },
  {
   "cell_type": "markdown",
   "metadata": {},
   "source": [
    "# Metrics\n",
    "\n",
    "Metrics on the whole dataset"
   ]
  },
  {
   "cell_type": "code",
   "execution_count": 29,
   "metadata": {},
   "outputs": [
    {
     "ename": "NameError",
     "evalue": "name 'confusion_values' is not defined",
     "output_type": "error",
     "traceback": [
      "\u001b[0;31m---------------------------------------------------------------------------\u001b[0m",
      "\u001b[0;31mNameError\u001b[0m                                 Traceback (most recent call last)",
      "\u001b[1;32m/Users/paulbp_dty/Desktop/src/inference.ipynb Cell 7'\u001b[0m in \u001b[0;36m<cell line: 1>\u001b[0;34m()\u001b[0m\n\u001b[0;32m----> <a href='vscode-notebook-cell:/Users/paulbp_dty/Desktop/src/inference.ipynb#ch0000006?line=0'>1</a>\u001b[0m FP,FN,TP,TN \u001b[39m=\u001b[39m confusion_values(actual,predicted)\n\u001b[1;32m      <a href='vscode-notebook-cell:/Users/paulbp_dty/Desktop/src/inference.ipynb#ch0000006?line=1'>2</a>\u001b[0m metrics \u001b[39m=\u001b[39m get_metrics(FP,FN,TP,TN,nb_samples)\n\u001b[1;32m      <a href='vscode-notebook-cell:/Users/paulbp_dty/Desktop/src/inference.ipynb#ch0000006?line=2'>3</a>\u001b[0m \u001b[39mprint\u001b[39m(metrics\u001b[39m.\u001b[39mACC)\n",
      "\u001b[0;31mNameError\u001b[0m: name 'confusion_values' is not defined"
     ]
    }
   ],
   "source": [
    "FP,FN,TP,TN = confusion_values(actual,predicted)\n",
    "metrics = get_metrics(FP,FN,TP,TN,nb_samples)\n",
    "print(metrics.ACC)"
   ]
  },
  {
   "cell_type": "markdown",
   "metadata": {},
   "source": [
    "# Class imbalance\n",
    "We count the frequence of appearance of each class in order to compute metrics on the different parts of the dataset"
   ]
  },
  {
   "cell_type": "markdown",
   "metadata": {},
   "source": [
    "## Frequence\n",
    "We compute the metrics on the most present (true) classes "
   ]
  },
  {
   "cell_type": "code",
   "execution_count": 78,
   "metadata": {},
   "outputs": [],
   "source": [
    "actual_dict = {x:actual.count(x) for x in actual}\n",
    "predicted_dict = {x:predicted.count(x) for x in predicted}\n",
    "results=json.load(open('results.json'))"
   ]
  },
  {
   "cell_type": "code",
   "execution_count": 89,
   "metadata": {},
   "outputs": [
    {
     "name": "stdout",
     "output_type": "stream",
     "text": [
      "{'ACC': 0.7658450704225352, 'TNR': array([1.        , 1.        , 1.        , 1.        , 0.99823944,\n",
      "       1.        , 0.99823944, 1.        , 1.        , 1.        ,\n",
      "       1.        , 1.        , 1.        , 1.        , 1.        ,\n",
      "       1.        , 1.        , 1.        , 1.        , 0.99823944,\n",
      "       1.        , 0.99823944, 1.        , 1.        , 1.        ,\n",
      "       0.99823944, 1.        , 1.        , 1.        , 1.        ,\n",
      "       0.99823944, 0.99823633, 1.        , 1.        , 1.        ,\n",
      "       1.        , 1.        , 0.99823944, 1.        , 1.        ,\n",
      "       0.99470899, 0.99823633, 1.        , 1.        , 1.        ,\n",
      "       1.        , 0.99823633, 1.        , 1.        , 1.        ,\n",
      "       1.        , 1.        , 1.        , 1.        , 1.        ,\n",
      "       1.        , 1.        , 1.        , 1.        , 1.        ,\n",
      "       1.        , 1.        , 1.        , 1.        , 1.        ,\n",
      "       1.        , 1.        , 1.        , 1.        , 1.        ,\n",
      "       1.        , 1.        , 1.        , 1.        , 1.        ,\n",
      "       1.        , 0.99823944, 1.        , 1.        , 1.        ,\n",
      "       1.        , 1.        , 1.        , 1.        , 1.        ,\n",
      "       1.        , 1.        , 1.        , 1.        , 0.99823633,\n",
      "       1.        , 1.        , 1.        , 1.        , 1.        ,\n",
      "       1.        , 1.        , 1.        , 1.        , 1.        ,\n",
      "       1.        , 0.99823633, 0.99823633, 1.        , 1.        ,\n",
      "       1.        , 0.99823944, 1.        , 1.        , 1.        ,\n",
      "       1.        , 1.        , 1.        , 0.99823944, 1.        ,\n",
      "       1.        , 1.        , 1.        , 1.        , 1.        ,\n",
      "       1.        , 1.        , 1.        , 1.        , 0.99823633,\n",
      "       0.99823944, 0.99823944, 1.        , 1.        , 1.        ,\n",
      "       1.        , 1.        , 1.        , 1.        , 0.99823633,\n",
      "       1.        , 1.        , 0.99823944, 1.        , 1.        ,\n",
      "       1.        , 0.99823944, 1.        , 1.        , 1.        ,\n",
      "       1.        , 1.        , 1.        , 1.        , 1.        ,\n",
      "       1.        , 1.        , 1.        , 1.        , 1.        ,\n",
      "       0.99823944, 0.99647887, 1.        , 1.        , 1.        ,\n",
      "       1.        , 1.        , 1.        , 0.99823633, 1.        ,\n",
      "       0.99823633, 1.        , 1.        , 1.        , 1.        ,\n",
      "       1.        , 1.        , 1.        , 1.        , 1.        ,\n",
      "       1.        , 0.99823944, 1.        , 1.        , 1.        ,\n",
      "       1.        , 1.        , 1.        , 1.        , 1.        ,\n",
      "       1.        , 1.        , 1.        , 1.        , 1.        ,\n",
      "       1.        , 1.        , 1.        , 0.99823633, 1.        ,\n",
      "       1.        , 1.        , 1.        , 1.        , 1.        ,\n",
      "       1.        , 1.        , 1.        , 1.        , 1.        ,\n",
      "       1.        , 1.        , 1.        , 1.        , 1.        ,\n",
      "       1.        , 1.        , 1.        , 1.        , 1.        ,\n",
      "       1.        , 1.        , 1.        , 1.        , 1.        ,\n",
      "       1.        , 1.        , 1.        , 1.        , 1.        ,\n",
      "       0.99647266, 1.        , 0.99647266, 1.        , 1.        ,\n",
      "       1.        , 1.        , 0.99823633, 1.        , 1.        ,\n",
      "       1.        , 1.        , 1.        , 1.        , 1.        ,\n",
      "       1.        , 1.        , 1.        , 1.        , 1.        ,\n",
      "       0.99823633, 1.        , 1.        , 1.        , 1.        ,\n",
      "       1.        , 1.        , 0.99823944, 1.        , 1.        ,\n",
      "       1.        , 1.        , 1.        , 1.        , 1.        ,\n",
      "       0.99823633, 1.        , 1.        , 0.99823633, 1.        ,\n",
      "       1.        , 1.        , 0.99823944, 1.        , 1.        ,\n",
      "       1.        , 0.99823944, 1.        , 0.99823633, 1.        ,\n",
      "       1.        , 1.        , 1.        , 0.99823633, 0.99823633,\n",
      "       1.        , 1.        , 0.99647266, 0.99823633, 1.        ,\n",
      "       1.        , 1.        , 1.        , 1.        , 1.        ,\n",
      "       1.        , 0.99823944, 1.        , 1.        , 0.99823944,\n",
      "       1.        , 0.99823633, 1.        , 1.        , 1.        ,\n",
      "       1.        , 0.99823633, 1.        , 0.99823944, 0.99823944,\n",
      "       1.        , 1.        , 1.        , 0.99823944, 1.        ,\n",
      "       1.        , 0.99823633, 0.99823944, 1.        , 1.        ,\n",
      "       1.        , 1.        , 1.        , 1.        , 1.        ,\n",
      "       1.        , 0.99823633, 0.99823633, 1.        , 0.99823633,\n",
      "       0.99823944, 1.        , 1.        , 1.        , 1.        ,\n",
      "       1.        , 1.        , 1.        , 1.        , 1.        ,\n",
      "       0.99823633, 1.        , 0.99823633, 1.        , 1.        ,\n",
      "       1.        , 1.        , 1.        , 1.        , 1.        ,\n",
      "       1.        , 1.        , 1.        , 1.        , 1.        ,\n",
      "       1.        , 1.        , 1.        , 1.        , 1.        ,\n",
      "       1.        , 0.99823944, 1.        , 1.        , 1.        ,\n",
      "       1.        , 0.99823944, 1.        , 1.        , 1.        ,\n",
      "       1.        , 1.        , 1.        , 1.        , 1.        ,\n",
      "       1.        , 1.        , 1.        , 0.99823633, 1.        ,\n",
      "       1.        , 0.99647266, 1.        , 1.        , 1.        ,\n",
      "       1.        , 1.        , 1.        , 1.        , 1.        ,\n",
      "       1.        , 1.        , 1.        , 1.        , 1.        ,\n",
      "       0.99823944, 0.99823633, 1.        , 1.        , 1.        ,\n",
      "       0.99823633, 1.        , 0.99823944, 1.        , 1.        ,\n",
      "       1.        , 1.        , 0.99823944, 1.        , 1.        ,\n",
      "       1.        , 0.99823633, 1.        , 0.99823633, 1.        ,\n",
      "       1.        , 1.        , 0.99823944, 1.        , 1.        ,\n",
      "       1.        , 1.        , 0.99823944, 1.        , 1.        ,\n",
      "       0.99823944, 1.        , 0.99823944, 0.99823944, 1.        ,\n",
      "       1.        , 1.        , 1.        , 0.99823633, 1.        ,\n",
      "       1.        , 1.        , 1.        , 1.        , 0.99823944,\n",
      "       1.        , 1.        , 0.99823633, 1.        , 1.        ,\n",
      "       0.99823944, 1.        , 1.        , 0.99647887, 0.99823633,\n",
      "       1.        , 1.        , 1.        , 0.99823633, 1.        ,\n",
      "       1.        , 0.99823633, 1.        , 1.        , 1.        ,\n",
      "       0.99823633, 1.        , 1.        , 0.99823944, 1.        ,\n",
      "       1.        , 1.        , 0.99647266, 1.        , 1.        ,\n",
      "       0.99823633, 1.        , 1.        , 1.        , 1.        ,\n",
      "       1.        , 1.        , 1.        , 1.        , 1.        ,\n",
      "       1.        , 1.        , 1.        , 1.        , 0.99823633,\n",
      "       1.        , 1.        , 1.        , 1.        , 1.        ,\n",
      "       1.        , 1.        , 1.        , 1.        , 1.        ,\n",
      "       1.        , 1.        , 1.        , 1.        , 1.        ,\n",
      "       1.        , 1.        , 0.99823633, 1.        , 1.        ,\n",
      "       1.        , 1.        , 1.        , 1.        , 1.        ,\n",
      "       0.99823633, 1.        , 0.99647266, 1.        , 1.        ,\n",
      "       1.        , 1.        , 0.99647887, 1.        , 1.        ,\n",
      "       1.        , 1.        , 1.        , 0.99823633, 1.        ,\n",
      "       1.        , 1.        , 1.        , 1.        , 1.        ,\n",
      "       1.        , 1.        , 0.99823944, 1.        , 1.        ,\n",
      "       1.        , 1.        , 0.99823944, 1.        , 1.        ,\n",
      "       1.        , 1.        , 1.        , 0.99823633, 0.99823944,\n",
      "       1.        , 0.99823944, 1.        , 1.        , 1.        ,\n",
      "       1.        , 0.99823944, 0.99823633, 1.        , 1.        ,\n",
      "       1.        , 1.        , 0.99823944, 1.        , 1.        ,\n",
      "       0.99823633, 1.        , 0.99823944, 0.99823944, 1.        ,\n",
      "       0.99471831, 1.        , 1.        , 1.        , 0.99823944,\n",
      "       1.        , 1.        , 0.99823633, 1.        , 1.        ,\n",
      "       0.99823633, 1.        , 0.99823633, 1.        , 1.        ,\n",
      "       1.        , 1.        , 1.        , 0.99647887, 1.        ,\n",
      "       1.        , 0.99823633, 1.        , 0.99823944, 1.        ,\n",
      "       1.        , 1.        , 1.        , 0.99823944, 1.        ,\n",
      "       1.        , 1.        , 1.        , 1.        , 0.99823944,\n",
      "       1.        , 1.        , 1.        , 1.        , 1.        ,\n",
      "       1.        , 1.        , 1.        , 1.        , 0.99823633,\n",
      "       0.99823944, 1.        , 1.        , 0.99823633, 1.        ,\n",
      "       1.        , 0.99823944, 1.        , 1.        , 0.99823633,\n",
      "       1.        , 1.        , 1.        , 1.        , 1.        ,\n",
      "       1.        , 1.        , 1.        , 0.99823944, 1.        ,\n",
      "       1.        , 1.        ])}\n"
     ]
    }
   ],
   "source": [
    "actual_filtered = [ key for (key,value) in actual_dict.items() if value >= 5 ]\n",
    "results_filtered = {key:value for (key,value) in results.items() if key in actual_filtered }\n",
    "fFP,fFN,fTP,fTN = confusion_values(list(results_filtered.keys()),list(results_filtered.values()))\n",
    "fmetrics = get_metrics(fFP,fFN,fTP,fTN,len(actual_filtered))\n",
    "print(fmetrics.ACC)"
   ]
  },
  {
   "cell_type": "markdown",
   "metadata": {},
   "source": [
    "# Grayscale\n",
    "We compute the metrics on the grayscale images to see if the color have an effect on the inference"
   ]
  },
  {
   "cell_type": "code",
   "execution_count": 90,
   "metadata": {},
   "outputs": [
    {
     "name": "stdout",
     "output_type": "stream",
     "text": [
      "{'ACC': 0.63, 'TNR': array([1.        , 1.        , 0.98947368, 1.        , 1.        ,\n",
      "       1.        , 1.        , 1.        , 1.        , 1.        ,\n",
      "       1.        , 1.        , 1.        , 1.        , 0.9893617 ,\n",
      "       1.        , 1.        , 0.98947368, 0.98947368, 1.        ,\n",
      "       1.        , 1.        , 1.        , 1.        , 1.        ,\n",
      "       1.        , 1.        , 1.        , 1.        , 1.        ,\n",
      "       1.        , 0.98947368, 1.        , 1.        , 1.        ,\n",
      "       1.        , 1.        , 1.        , 1.        , 0.98947368,\n",
      "       1.        , 1.        , 0.98947368, 1.        , 0.98947368,\n",
      "       1.        , 0.9893617 , 1.        , 1.        , 0.98947368,\n",
      "       1.        , 1.        , 0.98947368, 1.        , 1.        ,\n",
      "       1.        , 1.        , 1.        , 0.98947368, 1.        ,\n",
      "       1.        , 1.        , 1.        , 1.        , 1.        ,\n",
      "       1.        , 0.98947368, 1.        , 0.9893617 , 1.        ,\n",
      "       0.97894737, 1.        , 1.        , 1.        , 0.98947368,\n",
      "       0.98947368, 0.98947368, 0.98947368, 1.        , 0.98947368,\n",
      "       1.        , 1.        , 1.        , 1.        , 1.        ,\n",
      "       1.        , 1.        , 0.98947368, 1.        , 1.        ,\n",
      "       1.        , 1.        , 1.        , 1.        , 1.        ,\n",
      "       0.98947368, 0.98947368, 1.        , 1.        , 1.        ,\n",
      "       0.98947368, 1.        , 0.98947368, 1.        , 1.        ,\n",
      "       0.98947368, 1.        , 0.98947368, 1.        , 1.        ,\n",
      "       0.98947368, 1.        , 1.        , 0.9893617 , 1.        ,\n",
      "       1.        , 1.        , 0.98947368, 1.        , 1.        ,\n",
      "       0.98947368, 1.        ])}\n"
     ]
    }
   ],
   "source": [
    "grayscale_labels = [labels[filename] for filename in grayscale  ]\n",
    "results_gray = {key:value for (key,value) in results.items() if key in grayscale_labels }\n",
    "gFP,gFN,gTP,gTN = confusion_values(list(results_gray.keys()),list(results_gray.values()))\n",
    "gmetrics = get_metrics(gFP,gFN,gTP,gTN,len(grayscale_labels))\n",
    "print(gmetrics.ACC)"
   ]
  }
 ],
 "metadata": {
  "interpreter": {
   "hash": "c2dd083eeea2c788d632d7b2bad061f4f2e07ff4d8552d741108c781887c0643"
  },
  "kernelspec": {
   "display_name": "Python 3.10.2 ('test': venv)",
   "language": "python",
   "name": "python3"
  },
  "language_info": {
   "codemirror_mode": {
    "name": "ipython",
    "version": 3
   },
   "file_extension": ".py",
   "mimetype": "text/x-python",
   "name": "python",
   "nbconvert_exporter": "python",
   "pygments_lexer": "ipython3",
   "version": "3.10.2"
  },
  "orig_nbformat": 4
 },
 "nbformat": 4,
 "nbformat_minor": 2
}
